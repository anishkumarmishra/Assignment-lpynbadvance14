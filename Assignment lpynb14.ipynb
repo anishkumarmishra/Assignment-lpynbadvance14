{
  "nbformat": 4,
  "nbformat_minor": 0,
  "metadata": {
    "colab": {
      "provenance": []
    },
    "kernelspec": {
      "name": "python3",
      "display_name": "Python 3"
    },
    "language_info": {
      "name": "python"
    }
  },
  "cells": [
    {
      "cell_type": "markdown",
      "source": [
        "###**Q1. Is an assignment operator like += only for show? Is it possible that it would lead to faster results at the runtime ?**\n",
        "**Ans:** A=A+1 evaluates to finding A, adding 1 to it. Then storing the value again in variable A. This expression makes Python to look for memory holder of a twice. But A+=1 simply means value of A is to incremented by 1. As memory address has to be identified once, += leads to faster operation."
      ],
      "metadata": {
        "id": "tvzRDZbUu9bd"
      }
    },
    {
      "cell_type": "markdown",
      "source": [
        "###**Q2. What is the smallest no of statements you'd have to write in most programming languages to replace the Python expr a, b = a + b, a ?**\n",
        "**Ans:** Minimum number of lines required to write above code in languages other Python will be 4, two for assigning initial values for variables a and b, and two for reassignment i.e. a=a+b and b=a."
      ],
      "metadata": {
        "id": "iCcQZOojvpyU"
      }
    },
    {
      "cell_type": "markdown",
      "source": [
        "###**Q3. In Python, what is the most effective way to set a list of 100 integers to 0?**\n",
        "**Ans:** The Most effective way to set a list of 100 integers to 0 in python is by using repition operator(*) or by using list comprehension."
      ],
      "metadata": {
        "id": "zoVfATfiv5ao"
      }
    },
    {
      "cell_type": "code",
      "source": [
        "# Method 1\n",
        "list_zero=[0]*100\n",
        "print(list_zero)\n",
        "# Method 2\n",
        "zero_list = [0 for x in range(100)]\n",
        "print(zero_list)"
      ],
      "metadata": {
        "colab": {
          "base_uri": "https://localhost:8080/"
        },
        "id": "Yy9JuRJpyCjE",
        "outputId": "9f698b67-8a87-4d07-a2c0-1955fdc22929"
      },
      "execution_count": 1,
      "outputs": [
        {
          "output_type": "stream",
          "name": "stdout",
          "text": [
            "[0, 0, 0, 0, 0, 0, 0, 0, 0, 0, 0, 0, 0, 0, 0, 0, 0, 0, 0, 0, 0, 0, 0, 0, 0, 0, 0, 0, 0, 0, 0, 0, 0, 0, 0, 0, 0, 0, 0, 0, 0, 0, 0, 0, 0, 0, 0, 0, 0, 0, 0, 0, 0, 0, 0, 0, 0, 0, 0, 0, 0, 0, 0, 0, 0, 0, 0, 0, 0, 0, 0, 0, 0, 0, 0, 0, 0, 0, 0, 0, 0, 0, 0, 0, 0, 0, 0, 0, 0, 0, 0, 0, 0, 0, 0, 0, 0, 0, 0, 0]\n",
            "[0, 0, 0, 0, 0, 0, 0, 0, 0, 0, 0, 0, 0, 0, 0, 0, 0, 0, 0, 0, 0, 0, 0, 0, 0, 0, 0, 0, 0, 0, 0, 0, 0, 0, 0, 0, 0, 0, 0, 0, 0, 0, 0, 0, 0, 0, 0, 0, 0, 0, 0, 0, 0, 0, 0, 0, 0, 0, 0, 0, 0, 0, 0, 0, 0, 0, 0, 0, 0, 0, 0, 0, 0, 0, 0, 0, 0, 0, 0, 0, 0, 0, 0, 0, 0, 0, 0, 0, 0, 0, 0, 0, 0, 0, 0, 0, 0, 0, 0, 0]\n"
          ]
        }
      ]
    },
    {
      "cell_type": "markdown",
      "source": [
        "###**Q4. What is the most effective way to initialise a list of 99 integers that repeats the sequence 1, 2, 3? S If necessary, show step-by-step instructions on how to accomplish this.**\n"
      ],
      "metadata": {
        "id": "n93mQLpVyVbb"
      }
    },
    {
      "cell_type": "code",
      "source": [
        "my_list = [1,2,3]*33\n",
        "print(my_list)"
      ],
      "metadata": {
        "colab": {
          "base_uri": "https://localhost:8080/"
        },
        "id": "SckEcf_CzfUT",
        "outputId": "8e630330-4e36-410a-b711-31265e5fe211"
      },
      "execution_count": 2,
      "outputs": [
        {
          "output_type": "stream",
          "name": "stdout",
          "text": [
            "[1, 2, 3, 1, 2, 3, 1, 2, 3, 1, 2, 3, 1, 2, 3, 1, 2, 3, 1, 2, 3, 1, 2, 3, 1, 2, 3, 1, 2, 3, 1, 2, 3, 1, 2, 3, 1, 2, 3, 1, 2, 3, 1, 2, 3, 1, 2, 3, 1, 2, 3, 1, 2, 3, 1, 2, 3, 1, 2, 3, 1, 2, 3, 1, 2, 3, 1, 2, 3, 1, 2, 3, 1, 2, 3, 1, 2, 3, 1, 2, 3, 1, 2, 3, 1, 2, 3, 1, 2, 3, 1, 2, 3, 1, 2, 3, 1, 2, 3]\n"
          ]
        }
      ]
    },
    {
      "cell_type": "markdown",
      "source": [
        "###**Q5. If you're using IDLE to run a Python application, explain how to print a multidimensional list as efficiently?**"
      ],
      "metadata": {
        "id": "wgKN4a41zmoe"
      }
    },
    {
      "cell_type": "code",
      "source": [
        "my_list = [[1,1],[2,2],[3,3],[4,4],[5,5]] # 2 dimensional List\n",
        "for x in range(len(my_list)):\n",
        "    for y in range(len(my_list[x])):\n",
        "        print(my_list[x][y],end=\" \")"
      ],
      "metadata": {
        "colab": {
          "base_uri": "https://localhost:8080/"
        },
        "id": "X5vm27saz73t",
        "outputId": "448fb413-04db-4fc6-f07a-2a8d599165c9"
      },
      "execution_count": 3,
      "outputs": [
        {
          "output_type": "stream",
          "name": "stdout",
          "text": [
            "1 1 2 2 3 3 4 4 5 5 "
          ]
        }
      ]
    },
    {
      "cell_type": "markdown",
      "source": [
        "###**Q6. Is it possible to use list comprehension with a string? If so, how can you go about doing it?**\n",
        "**Ans:** List comprehension with string is possible."
      ],
      "metadata": {
        "id": "5uGdWz7s0WWf"
      }
    },
    {
      "cell_type": "code",
      "source": [
        "my_list = [ele for ele in 'iNeuron']\n",
        "print(my_list)"
      ],
      "metadata": {
        "colab": {
          "base_uri": "https://localhost:8080/"
        },
        "id": "74gUCDlQ0lJI",
        "outputId": "da3bd6af-cb56-4d76-b4c9-cb98cd1390f1"
      },
      "execution_count": 4,
      "outputs": [
        {
          "output_type": "stream",
          "name": "stdout",
          "text": [
            "['i', 'N', 'e', 'u', 'r', 'o', 'n']\n"
          ]
        }
      ]
    },
    {
      "cell_type": "markdown",
      "source": [
        "###**Q7. From the command line, how do you get support with a user-written Python programme? Is this possible from inside IDLE?**\n",
        "**Ans: Get support with a user-written Python Programme:** Start a command prompt (Windows) or terminal window (Linux/Mac). If the current working directory is the same as the location in which you saved the file, you can simply specify the filename as a command-line argument to the Python interpreter.\n",
        "\n",
        "**Get support with a User-written Python Program from IDLE:** You can also create script files and run them in IDLE. From the Shell window menu, **select File → New File**. That should open an additional editing window. Type in the code to be executed. From the menu in that window, **select File → Save or File → Save As…** and save the file to disk. Then **select Run → Run Module.** The output should appear back in the interpreter"
      ],
      "metadata": {
        "id": "Zp09HPY_0ndP"
      }
    },
    {
      "cell_type": "markdown",
      "source": [
        "###**Q8. Functions are said to be “first-class objects” in Python but not in most other languages, such as C++ or Java. What can you do in Python with a function (callable object) that you can't do in C or C++?**\n",
        "**Ans:** The tasks which can be performed with the functions in python are:\n",
        "\n",
        "A function is an instance of the Object type.\n",
        "\n",
        "You can store the function in a variable.\n",
        "\n",
        "You can pass the function as a parameter to another function.\n",
        "\n",
        "You can return the function from a function.\n",
        "\n",
        "You can store them in data structures such as hash tables, lists,"
      ],
      "metadata": {
        "id": "hUG10NLX8HeX"
      }
    },
    {
      "cell_type": "markdown",
      "source": [
        "###**Q9. How do you distinguish between a wrapper, a wrapped feature, and a decorator?**\n",
        "**Ans:** Wrappers Around the functions are known as Decrators."
      ],
      "metadata": {
        "id": "t8353F7B8U99"
      }
    },
    {
      "cell_type": "markdown",
      "source": [
        "###**Q10. If a function is a generator function, what does it return?**\n",
        "**Ans:** Generator functions are a special kind of function that return a **lazy iterator.** These are objects that you can loop over like a list. However, unlike lists, lazy iterators do not store their contents in memory."
      ],
      "metadata": {
        "id": "DaCnpiNk8rux"
      }
    },
    {
      "cell_type": "markdown",
      "source": [
        "###**Q11. What is the one improvement that must be made to a function in order for it to become a generator function in the Python language?**\n",
        "**Ans:** Generator is a written as normal function but uses yield keyword to return values instead of return keyword."
      ],
      "metadata": {
        "id": "lr-Owv6T84pJ"
      }
    },
    {
      "cell_type": "markdown",
      "source": [
        "###**Q12. Identify at least one benefit of generators.**\n",
        "**Ans:** return statement sends a specified value back to its caller whereas yield statment can produce a sequence of values. We should use generator when we want to iterate over a sequence, but don’t want to store the entire sequence in memory."
      ],
      "metadata": {
        "id": "uZCU6W3d9Ek0"
      }
    }
  ]
}